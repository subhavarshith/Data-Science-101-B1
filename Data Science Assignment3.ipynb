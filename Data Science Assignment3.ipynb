{
 "cells": [
  {
   "cell_type": "code",
   "execution_count": 42,
   "metadata": {},
   "outputs": [
    {
     "name": "stdout",
     "output_type": "stream",
     "text": [
      "[ 2  5  8 11 14 17 20 23 26 29 32 35 38 41 44 47 50]\n"
     ]
    }
   ],
   "source": [
    "#Question 1\n",
    "import numpy as np\n",
    "a = np.arange(2,51,3)\n",
    "print(a)"
   ]
  },
  {
   "cell_type": "code",
   "execution_count": 43,
   "metadata": {},
   "outputs": [
    {
     "name": "stdout",
     "output_type": "stream",
     "text": [
      "[ 5  4  3  2  1 14 12 16 17 11]\n",
      "[ 1  2  3  4  5 11 12 14 16 17]\n"
     ]
    }
   ],
   "source": [
    "#Question 2\n",
    "a = [5,4,3,2,1]\n",
    "b = [14,12,16,17,11]\n",
    "a = np.array(a)\n",
    "b = np.array(b)\n",
    "con = np.concatenate((a,b))\n",
    "print(con)\n",
    "sort = np.sort(con)\n",
    "print(sort)"
   ]
  },
  {
   "cell_type": "code",
   "execution_count": 44,
   "metadata": {},
   "outputs": [
    {
     "name": "stdout",
     "output_type": "stream",
     "text": [
      "(2,)\n",
      "2\n"
     ]
    }
   ],
   "source": [
    "#Question 3\n",
    "\n",
    "arr = np.array([[1,2,3,3,2,1,4,5,6,7,1,2,8,2],[3,2,1,4,5,6,7,8]])\n",
    "dimention = arr.shape\n",
    "size = arr.size\n",
    "print(dimention)\n",
    "print(size)"
   ]
  },
  {
   "cell_type": "code",
   "execution_count": 83,
   "metadata": {
    "scrolled": true
   },
   "outputs": [
    {
     "name": "stdout",
     "output_type": "stream",
     "text": [
      "[[ 1]\n",
      " [ 2]\n",
      " [ 3]\n",
      " [ 4]\n",
      " [ 5]\n",
      " [ 6]\n",
      " [ 7]\n",
      " [ 8]\n",
      " [ 9]\n",
      " [10]]\n",
      "[[ 1  2  3  4  5  6  7  8  9 10]]\n"
     ]
    },
    {
     "data": {
      "text/plain": [
       "(1, 10)"
      ]
     },
     "execution_count": 83,
     "metadata": {},
     "output_type": "execute_result"
    }
   ],
   "source": [
    "#Question 4\n",
    "arr = np.array([1,2,3,4,5,6,7,8,9,10])\n",
    "twod = np.expand_dims(arr,axis= 1)\n",
    "print(twod)\n",
    "#another way\n",
    "td = arr[np.newaxis]\n",
    "print(td)"
   ]
  },
  {
   "cell_type": "code",
   "execution_count": 86,
   "metadata": {},
   "outputs": [
    {
     "name": "stdout",
     "output_type": "stream",
     "text": [
      "[1 2 3 4 5 6 4 5 6 7 8 9]\n",
      "[[1 2 3 4 5 6]\n",
      " [4 5 6 7 8 9]]\n"
     ]
    }
   ],
   "source": [
    "#Question 5\n",
    "arr1 = np.array([1,2,3,4,5,6])\n",
    "arr2 = np.array([4,5,6,7,8,9])\n",
    "hor = np.hstack((arr1,arr2))\n",
    "ver = np.vstack((arr1,arr2))\n",
    "print(hor)\n",
    "print(ver)"
   ]
  },
  {
   "cell_type": "code",
   "execution_count": 96,
   "metadata": {},
   "outputs": [
    {
     "name": "stdout",
     "output_type": "stream",
     "text": [
      "[[ 1  2  4  5  6 78]\n",
      " [ 2  2  2  2  1  1]]\n"
     ]
    }
   ],
   "source": [
    "#Question 6\n",
    "ar = np.array([1,2,2,1,4,5,6,78,4,5])\n",
    "unique, count = np.unique(ar, return_counts= True)\n",
    "b = np.asarray((unique, count))\n",
    "print(b)"
   ]
  }
 ],
 "metadata": {
  "kernelspec": {
   "display_name": "Python 3",
   "language": "python",
   "name": "python3"
  },
  "language_info": {
   "codemirror_mode": {
    "name": "ipython",
    "version": 3
   },
   "file_extension": ".py",
   "mimetype": "text/x-python",
   "name": "python",
   "nbconvert_exporter": "python",
   "pygments_lexer": "ipython3",
   "version": "3.8.3"
  }
 },
 "nbformat": 4,
 "nbformat_minor": 4
}
